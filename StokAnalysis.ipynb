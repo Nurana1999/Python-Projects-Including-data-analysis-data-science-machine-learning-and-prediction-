{
 "cells": [
  {
   "cell_type": "code",
   "execution_count": 2,
   "id": "b4d83c88-6363-4aea-97d4-7a266a02353e",
   "metadata": {},
   "outputs": [],
   "source": [
    "import pandas as pd\n",
    "import numpy as np\n",
    "import matplotlib.pyplot as plt\n",
    "import pandas_datareader as pdr\n",
    "from scipy import stats\n",
    "import seaborn as sns"
   ]
  },
  {
   "cell_type": "code",
   "execution_count": 3,
   "id": "de4566fd-a1d4-431b-9627-ec83078bea54",
   "metadata": {},
   "outputs": [],
   "source": [
    "tesla=pdr.get_data_yahoo('TSLA',start='2011-01-01',end='2020-11-01')\n",
    "nike=pdr.get_data_yahoo('NKE',start='2011-01-01',end='2020-11-01')"
   ]
  },
  {
   "cell_type": "code",
   "execution_count": 4,
   "id": "90921c8c-6ebc-46b5-babc-fa20a0fec58a",
   "metadata": {},
   "outputs": [],
   "source": [
    "SP500=pdr.get_data_yahoo('SPY',start='2011-01-01',end='2020-11-01')"
   ]
  },
  {
   "cell_type": "code",
   "execution_count": 5,
   "id": "3121b425-c00b-4493-8d50-fecef6892791",
   "metadata": {},
   "outputs": [
    {
     "data": {
      "text/html": [
       "<div>\n",
       "<style scoped>\n",
       "    .dataframe tbody tr th:only-of-type {\n",
       "        vertical-align: middle;\n",
       "    }\n",
       "\n",
       "    .dataframe tbody tr th {\n",
       "        vertical-align: top;\n",
       "    }\n",
       "\n",
       "    .dataframe thead th {\n",
       "        text-align: right;\n",
       "    }\n",
       "</style>\n",
       "<table border=\"1\" class=\"dataframe\">\n",
       "  <thead>\n",
       "    <tr style=\"text-align: right;\">\n",
       "      <th></th>\n",
       "      <th>High</th>\n",
       "      <th>Low</th>\n",
       "      <th>Open</th>\n",
       "      <th>Close</th>\n",
       "      <th>Volume</th>\n",
       "      <th>Adj Close</th>\n",
       "    </tr>\n",
       "    <tr>\n",
       "      <th>Date</th>\n",
       "      <th></th>\n",
       "      <th></th>\n",
       "      <th></th>\n",
       "      <th></th>\n",
       "      <th></th>\n",
       "      <th></th>\n",
       "    </tr>\n",
       "  </thead>\n",
       "  <tbody>\n",
       "    <tr>\n",
       "      <th>2011-01-03</th>\n",
       "      <td>5.400</td>\n",
       "      <td>5.180</td>\n",
       "      <td>5.368</td>\n",
       "      <td>5.324</td>\n",
       "      <td>6415000.0</td>\n",
       "      <td>5.324</td>\n",
       "    </tr>\n",
       "    <tr>\n",
       "      <th>2011-01-04</th>\n",
       "      <td>5.390</td>\n",
       "      <td>5.204</td>\n",
       "      <td>5.332</td>\n",
       "      <td>5.334</td>\n",
       "      <td>5937000.0</td>\n",
       "      <td>5.334</td>\n",
       "    </tr>\n",
       "    <tr>\n",
       "      <th>2011-01-05</th>\n",
       "      <td>5.380</td>\n",
       "      <td>5.238</td>\n",
       "      <td>5.296</td>\n",
       "      <td>5.366</td>\n",
       "      <td>7233500.0</td>\n",
       "      <td>5.366</td>\n",
       "    </tr>\n",
       "    <tr>\n",
       "      <th>2011-01-06</th>\n",
       "      <td>5.600</td>\n",
       "      <td>5.362</td>\n",
       "      <td>5.366</td>\n",
       "      <td>5.576</td>\n",
       "      <td>10306000.0</td>\n",
       "      <td>5.576</td>\n",
       "    </tr>\n",
       "    <tr>\n",
       "      <th>2011-01-07</th>\n",
       "      <td>5.716</td>\n",
       "      <td>5.580</td>\n",
       "      <td>5.600</td>\n",
       "      <td>5.648</td>\n",
       "      <td>11239500.0</td>\n",
       "      <td>5.648</td>\n",
       "    </tr>\n",
       "  </tbody>\n",
       "</table>\n",
       "</div>"
      ],
      "text/plain": [
       "             High    Low   Open  Close      Volume  Adj Close\n",
       "Date                                                         \n",
       "2011-01-03  5.400  5.180  5.368  5.324   6415000.0      5.324\n",
       "2011-01-04  5.390  5.204  5.332  5.334   5937000.0      5.334\n",
       "2011-01-05  5.380  5.238  5.296  5.366   7233500.0      5.366\n",
       "2011-01-06  5.600  5.362  5.366  5.576  10306000.0      5.576\n",
       "2011-01-07  5.716  5.580  5.600  5.648  11239500.0      5.648"
      ]
     },
     "execution_count": 5,
     "metadata": {},
     "output_type": "execute_result"
    }
   ],
   "source": [
    "tesla.head()"
   ]
  },
  {
   "cell_type": "code",
   "execution_count": 6,
   "id": "c6836cd7-e55f-4c3e-9325-4a9a38fa9225",
   "metadata": {},
   "outputs": [
    {
     "data": {
      "text/html": [
       "<div>\n",
       "<style scoped>\n",
       "    .dataframe tbody tr th:only-of-type {\n",
       "        vertical-align: middle;\n",
       "    }\n",
       "\n",
       "    .dataframe tbody tr th {\n",
       "        vertical-align: top;\n",
       "    }\n",
       "\n",
       "    .dataframe thead th {\n",
       "        text-align: right;\n",
       "    }\n",
       "</style>\n",
       "<table border=\"1\" class=\"dataframe\">\n",
       "  <thead>\n",
       "    <tr style=\"text-align: right;\">\n",
       "      <th></th>\n",
       "      <th>High</th>\n",
       "      <th>Low</th>\n",
       "      <th>Open</th>\n",
       "      <th>Close</th>\n",
       "      <th>Volume</th>\n",
       "      <th>Adj Close</th>\n",
       "    </tr>\n",
       "    <tr>\n",
       "      <th>Date</th>\n",
       "      <th></th>\n",
       "      <th></th>\n",
       "      <th></th>\n",
       "      <th></th>\n",
       "      <th></th>\n",
       "      <th></th>\n",
       "    </tr>\n",
       "  </thead>\n",
       "  <tbody>\n",
       "    <tr>\n",
       "      <th>2011-01-03</th>\n",
       "      <td>127.599998</td>\n",
       "      <td>125.699997</td>\n",
       "      <td>126.709999</td>\n",
       "      <td>127.050003</td>\n",
       "      <td>138725200.0</td>\n",
       "      <td>103.779396</td>\n",
       "    </tr>\n",
       "    <tr>\n",
       "      <th>2011-01-04</th>\n",
       "      <td>127.370003</td>\n",
       "      <td>126.190002</td>\n",
       "      <td>127.330002</td>\n",
       "      <td>126.980003</td>\n",
       "      <td>137409700.0</td>\n",
       "      <td>103.722198</td>\n",
       "    </tr>\n",
       "    <tr>\n",
       "      <th>2011-01-05</th>\n",
       "      <td>127.720001</td>\n",
       "      <td>126.459999</td>\n",
       "      <td>126.580002</td>\n",
       "      <td>127.639999</td>\n",
       "      <td>133975300.0</td>\n",
       "      <td>104.261322</td>\n",
       "    </tr>\n",
       "    <tr>\n",
       "      <th>2011-01-06</th>\n",
       "      <td>127.830002</td>\n",
       "      <td>127.010002</td>\n",
       "      <td>127.690002</td>\n",
       "      <td>127.389999</td>\n",
       "      <td>122519000.0</td>\n",
       "      <td>104.057114</td>\n",
       "    </tr>\n",
       "    <tr>\n",
       "      <th>2011-01-07</th>\n",
       "      <td>127.769997</td>\n",
       "      <td>126.150002</td>\n",
       "      <td>127.559998</td>\n",
       "      <td>127.139999</td>\n",
       "      <td>156034600.0</td>\n",
       "      <td>103.852882</td>\n",
       "    </tr>\n",
       "  </tbody>\n",
       "</table>\n",
       "</div>"
      ],
      "text/plain": [
       "                  High         Low        Open       Close       Volume  \\\n",
       "Date                                                                      \n",
       "2011-01-03  127.599998  125.699997  126.709999  127.050003  138725200.0   \n",
       "2011-01-04  127.370003  126.190002  127.330002  126.980003  137409700.0   \n",
       "2011-01-05  127.720001  126.459999  126.580002  127.639999  133975300.0   \n",
       "2011-01-06  127.830002  127.010002  127.690002  127.389999  122519000.0   \n",
       "2011-01-07  127.769997  126.150002  127.559998  127.139999  156034600.0   \n",
       "\n",
       "             Adj Close  \n",
       "Date                    \n",
       "2011-01-03  103.779396  \n",
       "2011-01-04  103.722198  \n",
       "2011-01-05  104.261322  \n",
       "2011-01-06  104.057114  \n",
       "2011-01-07  103.852882  "
      ]
     },
     "execution_count": 6,
     "metadata": {},
     "output_type": "execute_result"
    }
   ],
   "source": [
    "SP500.head()"
   ]
  },
  {
   "cell_type": "code",
   "execution_count": null,
   "id": "650e0331-f04e-40b3-afd4-a960da5a13eb",
   "metadata": {},
   "outputs": [],
   "source": []
  },
  {
   "cell_type": "code",
   "execution_count": null,
   "id": "0ce19647-fac6-48dc-b845-a23f256bb91d",
   "metadata": {},
   "outputs": [],
   "source": []
  },
  {
   "cell_type": "code",
   "execution_count": 7,
   "id": "ceab70a6-35e2-4aaf-af5d-bba33e15482e",
   "metadata": {},
   "outputs": [
    {
     "data": {
      "image/png": "[encoded data removed]",
      "text/plain": [
       "<Figure size 720x360 with 1 Axes>"
      ]
     },
     "metadata": {
      "needs_background": "light"
     },
     "output_type": "display_data"
    }
   ],
   "source": [
    "plt.figure(figsize=(10,5))\n",
    "x=tesla.index\n",
    "y=tesla['Adj Close']\n",
    "x1=nike.index\n",
    "y1=nike['Adj Close']\n",
    "plt.xlabel('Data')\n",
    "plt.ylabel('Adj Close in $')\n",
    "plt.plot(x,y)\n",
    "plt.plot(x1,y1)\n",
    "plt.title('Tesla vs Nike (2011-2020)')\n",
    "plt.legend(['Tesla','Nike'])\n",
    "plt.show()"
   ]
  },
  {
   "cell_type": "markdown",
   "id": "4964f434-840a-4aa7-b0b7-d67291eefbb8",
   "metadata": {},
   "source": [
    "### Calculate the monthly percent change"
   ]
  },
  {
   "cell_type": "code",
   "execution_count": 9,
   "id": "afd27ed4-3551-4abd-995f-36403fccbd31",
   "metadata": {},
   "outputs": [],
   "source": [
    "tesla_daily_return=tesla['Adj Close'].pct_change()[1:]\n",
    "tesla_monthly_return=tesla['Adj Close'].resample('M').ffill().pct_change()\n",
    "\n",
    "\n",
    "nike_daily_return=nike['Adj Close'].pct_change()[1:]\n",
    "nike_monthly_return=nike['Adj Close'].resample('M').ffill().pct_change()\n",
    "\n",
    "SP500_daily_return=SP500['Adj Close'].pct_change()[1:]\n",
    "SP500_monthly_return=SP500['Adj Close'].resample('M').ffill().pct_change()\n"
   ]
  },
  {
   "cell_type": "code",
   "execution_count": 10,
   "id": "2da6eee1-cef2-4deb-9e24-7fe28a15fa1a",
   "metadata": {},
   "outputs": [
    {
     "data": {
      "text/html": [
       "<div>\n",
       "<style scoped>\n",
       "    .dataframe tbody tr th:only-of-type {\n",
       "        vertical-align: middle;\n",
       "    }\n",
       "\n",
       "    .dataframe tbody tr th {\n",
       "        vertical-align: top;\n",
       "    }\n",
       "\n",
       "    .dataframe thead th {\n",
       "        text-align: right;\n",
       "    }\n",
       "</style>\n",
       "<table border=\"1\" class=\"dataframe\">\n",
       "  <thead>\n",
       "    <tr style=\"text-align: right;\">\n",
       "      <th></th>\n",
       "      <th>High</th>\n",
       "      <th>Low</th>\n",
       "      <th>Open</th>\n",
       "      <th>Close</th>\n",
       "      <th>Volume</th>\n",
       "      <th>Adj Close</th>\n",
       "    </tr>\n",
       "    <tr>\n",
       "      <th>Date</th>\n",
       "      <th></th>\n",
       "      <th></th>\n",
       "      <th></th>\n",
       "      <th></th>\n",
       "      <th></th>\n",
       "      <th></th>\n",
       "    </tr>\n",
       "  </thead>\n",
       "  <tbody>\n",
       "    <tr>\n",
       "      <th>2011-01-03</th>\n",
       "      <td>21.645000</td>\n",
       "      <td>21.315001</td>\n",
       "      <td>21.457500</td>\n",
       "      <td>21.522499</td>\n",
       "      <td>8566400.0</td>\n",
       "      <td>18.973982</td>\n",
       "    </tr>\n",
       "    <tr>\n",
       "      <th>2011-01-04</th>\n",
       "      <td>21.437500</td>\n",
       "      <td>20.937500</td>\n",
       "      <td>21.400000</td>\n",
       "      <td>20.992500</td>\n",
       "      <td>13797600.0</td>\n",
       "      <td>18.506742</td>\n",
       "    </tr>\n",
       "    <tr>\n",
       "      <th>2011-01-05</th>\n",
       "      <td>21.207500</td>\n",
       "      <td>20.877501</td>\n",
       "      <td>20.912500</td>\n",
       "      <td>21.129999</td>\n",
       "      <td>11598800.0</td>\n",
       "      <td>18.627964</td>\n",
       "    </tr>\n",
       "    <tr>\n",
       "      <th>2011-01-06</th>\n",
       "      <td>21.125000</td>\n",
       "      <td>20.889999</td>\n",
       "      <td>21.112499</td>\n",
       "      <td>20.940001</td>\n",
       "      <td>8057200.0</td>\n",
       "      <td>18.460466</td>\n",
       "    </tr>\n",
       "    <tr>\n",
       "      <th>2011-01-07</th>\n",
       "      <td>20.987499</td>\n",
       "      <td>20.817499</td>\n",
       "      <td>20.924999</td>\n",
       "      <td>20.882500</td>\n",
       "      <td>8174400.0</td>\n",
       "      <td>18.409769</td>\n",
       "    </tr>\n",
       "  </tbody>\n",
       "</table>\n",
       "</div>"
      ],
      "text/plain": [
       "                 High        Low       Open      Close      Volume  Adj Close\n",
       "Date                                                                         \n",
       "2011-01-03  21.645000  21.315001  21.457500  21.522499   8566400.0  18.973982\n",
       "2011-01-04  21.437500  20.937500  21.400000  20.992500  13797600.0  18.506742\n",
       "2011-01-05  21.207500  20.877501  20.912500  21.129999  11598800.0  18.627964\n",
       "2011-01-06  21.125000  20.889999  21.112499  20.940001   8057200.0  18.460466\n",
       "2011-01-07  20.987499  20.817499  20.924999  20.882500   8174400.0  18.409769"
      ]
     },
     "execution_count": 10,
     "metadata": {},
     "output_type": "execute_result"
    }
   ],
   "source": [
    "nike.head()"
   ]
  },
  {
   "cell_type": "code",
   "execution_count": 11,
   "id": "b0366645-37c8-4f7b-863f-724a20605b7c",
   "metadata": {},
   "outputs": [
    {
     "data": {
      "text/plain": [
       "Date\n",
       "2011-01-04   -0.024625\n",
       "2011-01-05    0.006550\n",
       "2011-01-06   -0.008992\n",
       "2011-01-07   -0.002746\n",
       "2011-01-10    0.007662\n",
       "                ...   \n",
       "2020-10-26   -0.012463\n",
       "2020-10-27   -0.002960\n",
       "2020-10-28   -0.046175\n",
       "2020-10-29    0.006389\n",
       "2020-10-30   -0.022627\n",
       "Name: Adj Close, Length: 2474, dtype: float64"
      ]
     },
     "execution_count": 11,
     "metadata": {},
     "output_type": "execute_result"
    }
   ],
   "source": [
    "nike_daily_return"
   ]
  },
  {
   "cell_type": "code",
   "execution_count": null,
   "id": "cdac7dcf-4509-4bd4-95cf-11167bb7c112",
   "metadata": {},
   "outputs": [],
   "source": []
  }
 ],
 "metadata": {
  "kernelspec": {
   "display_name": "Python 3",
   "language": "python",
   "name": "python3"
  },
  "language_info": {
   "codemirror_mode": {
    "name": "ipython",
    "version": 3
   },
   "file_extension": ".py",
   "mimetype": "text/x-python",
   "name": "python",
   "nbconvert_exporter": "python",
   "pygments_lexer": "ipython3",
   "version": "3.9.4"
  }
 },
 "nbformat": 4,
 "nbformat_minor": 5
}
