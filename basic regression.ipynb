{
 "cells": [
  {
   "cell_type": "code",
   "execution_count": 1,
   "id": "7993961b-81cb-4354-8b27-35b245dfd83a",
   "metadata": {},
   "outputs": [],
   "source": [
    "import pandas as pd\n",
    "import numpy as np\n",
    "import matplotlib.pyplot as plt\n",
    "from sklearn.linear_model import LinearRegression\n",
    "from sklearn.metrics import mean_absolute_error,r2_score"
   ]
  },
  {
   "cell_type": "code",
   "execution_count": 2,
   "id": "f165a3cc-9a7d-4c26-864a-e4deae43697c",
   "metadata": {},
   "outputs": [],
   "source": [
    "satislar=np.array([22,21,23,26,30,31,32])\n",
    "reklam=np.array([7,11,15,22,26,28,31])"
   ]
  },
  {
   "cell_type": "code",
   "execution_count": 3,
   "id": "2e5cb80f-804b-4d2e-8a74-6a1ce260ee25",
   "metadata": {},
   "outputs": [],
   "source": [
    "df=pd.DataFrame({'satislar':satislar,'reklamlar':reklam})"
   ]
  },
  {
   "cell_type": "code",
   "execution_count": 4,
   "id": "87688f49-1a55-42c2-ade2-681a791e835e",
   "metadata": {},
   "outputs": [
    {
     "data": {
      "text/html": [
       "<div>\n",
       "<style scoped>\n",
       "    .dataframe tbody tr th:only-of-type {\n",
       "        vertical-align: middle;\n",
       "    }\n",
       "\n",
       "    .dataframe tbody tr th {\n",
       "        vertical-align: top;\n",
       "    }\n",
       "\n",
       "    .dataframe thead th {\n",
       "        text-align: right;\n",
       "    }\n",
       "</style>\n",
       "<table border=\"1\" class=\"dataframe\">\n",
       "  <thead>\n",
       "    <tr style=\"text-align: right;\">\n",
       "      <th></th>\n",
       "      <th>satislar</th>\n",
       "      <th>reklamlar</th>\n",
       "    </tr>\n",
       "  </thead>\n",
       "  <tbody>\n",
       "    <tr>\n",
       "      <th>0</th>\n",
       "      <td>22</td>\n",
       "      <td>7</td>\n",
       "    </tr>\n",
       "    <tr>\n",
       "      <th>1</th>\n",
       "      <td>21</td>\n",
       "      <td>11</td>\n",
       "    </tr>\n",
       "    <tr>\n",
       "      <th>2</th>\n",
       "      <td>23</td>\n",
       "      <td>15</td>\n",
       "    </tr>\n",
       "    <tr>\n",
       "      <th>3</th>\n",
       "      <td>26</td>\n",
       "      <td>22</td>\n",
       "    </tr>\n",
       "    <tr>\n",
       "      <th>4</th>\n",
       "      <td>30</td>\n",
       "      <td>26</td>\n",
       "    </tr>\n",
       "    <tr>\n",
       "      <th>5</th>\n",
       "      <td>31</td>\n",
       "      <td>28</td>\n",
       "    </tr>\n",
       "    <tr>\n",
       "      <th>6</th>\n",
       "      <td>32</td>\n",
       "      <td>31</td>\n",
       "    </tr>\n",
       "  </tbody>\n",
       "</table>\n",
       "</div>"
      ],
      "text/plain": [
       "   satislar  reklamlar\n",
       "0        22          7\n",
       "1        21         11\n",
       "2        23         15\n",
       "3        26         22\n",
       "4        30         26\n",
       "5        31         28\n",
       "6        32         31"
      ]
     },
     "execution_count": 4,
     "metadata": {},
     "output_type": "execute_result"
    }
   ],
   "source": [
    "df"
   ]
  },
  {
   "cell_type": "code",
   "execution_count": 12,
   "id": "ca4b7dc0-2be3-48a4-a5cf-62b86e22ab20",
   "metadata": {},
   "outputs": [],
   "source": [
    "year=np.arange(2000,2007,1)"
   ]
  },
  {
   "cell_type": "code",
   "execution_count": 14,
   "id": "68db9e30-d3f8-47ba-9103-4f38e8418463",
   "metadata": {},
   "outputs": [],
   "source": [
    "df.index=year"
   ]
  },
  {
   "cell_type": "code",
   "execution_count": 15,
   "id": "9ce9344c-aa4b-4f87-ad6f-ad5076878963",
   "metadata": {},
   "outputs": [
    {
     "data": {
      "text/html": [
       "<div>\n",
       "<style scoped>\n",
       "    .dataframe tbody tr th:only-of-type {\n",
       "        vertical-align: middle;\n",
       "    }\n",
       "\n",
       "    .dataframe tbody tr th {\n",
       "        vertical-align: top;\n",
       "    }\n",
       "\n",
       "    .dataframe thead th {\n",
       "        text-align: right;\n",
       "    }\n",
       "</style>\n",
       "<table border=\"1\" class=\"dataframe\">\n",
       "  <thead>\n",
       "    <tr style=\"text-align: right;\">\n",
       "      <th></th>\n",
       "      <th>satislar</th>\n",
       "      <th>reklamlar</th>\n",
       "    </tr>\n",
       "  </thead>\n",
       "  <tbody>\n",
       "    <tr>\n",
       "      <th>2000</th>\n",
       "      <td>22</td>\n",
       "      <td>7</td>\n",
       "    </tr>\n",
       "    <tr>\n",
       "      <th>2001</th>\n",
       "      <td>21</td>\n",
       "      <td>11</td>\n",
       "    </tr>\n",
       "    <tr>\n",
       "      <th>2002</th>\n",
       "      <td>23</td>\n",
       "      <td>15</td>\n",
       "    </tr>\n",
       "    <tr>\n",
       "      <th>2003</th>\n",
       "      <td>26</td>\n",
       "      <td>22</td>\n",
       "    </tr>\n",
       "    <tr>\n",
       "      <th>2004</th>\n",
       "      <td>30</td>\n",
       "      <td>26</td>\n",
       "    </tr>\n",
       "    <tr>\n",
       "      <th>2005</th>\n",
       "      <td>31</td>\n",
       "      <td>28</td>\n",
       "    </tr>\n",
       "    <tr>\n",
       "      <th>2006</th>\n",
       "      <td>32</td>\n",
       "      <td>31</td>\n",
       "    </tr>\n",
       "  </tbody>\n",
       "</table>\n",
       "</div>"
      ],
      "text/plain": [
       "      satislar  reklamlar\n",
       "2000        22          7\n",
       "2001        21         11\n",
       "2002        23         15\n",
       "2003        26         22\n",
       "2004        30         26\n",
       "2005        31         28\n",
       "2006        32         31"
      ]
     },
     "execution_count": 15,
     "metadata": {},
     "output_type": "execute_result"
    }
   ],
   "source": [
    "df"
   ]
  },
  {
   "cell_type": "code",
   "execution_count": 24,
   "id": "a90f0855-cca5-4158-a1e1-5dccda5b35b0",
   "metadata": {},
   "outputs": [
    {
     "data": {
      "text/plain": [
       "[<matplotlib.lines.Line2D at 0x1eb9a8a1d30>]"
      ]
     },
     "execution_count": 24,
     "metadata": {},
     "output_type": "execute_result"
    },
    {
     "data": {
      "image/png": "[encoded data removed]",
      "text/plain": [
       "<Figure size 432x288 with 1 Axes>"
      ]
     },
     "metadata": {
      "needs_background": "light"
     },
     "output_type": "display_data"
    }
   ],
   "source": [
    "plt.scatter(reklam,satislar)\n",
    "plt.plot(reklam,reklam*1+3)"
   ]
  },
  {
   "cell_type": "markdown",
   "id": "e8ed6d46-3238-4ce9-9194-558ac57f078a",
   "metadata": {},
   "source": [
    "Model yaratma Linear Regression"
   ]
  },
  {
   "cell_type": "code",
   "execution_count": 25,
   "id": "d52c717d-04a5-44c1-8688-6af2da31cfa5",
   "metadata": {},
   "outputs": [],
   "source": [
    "linear_model=LinearRegression()"
   ]
  },
  {
   "cell_type": "code",
   "execution_count": 27,
   "id": "1d9237cb-441f-4ea6-a5ce-38d993195519",
   "metadata": {},
   "outputs": [
    {
     "data": {
      "text/plain": [
       "array([ 7, 11, 15, 22, 26, 28, 31])"
      ]
     },
     "execution_count": 27,
     "metadata": {},
     "output_type": "execute_result"
    }
   ],
   "source": [
    "reklam"
   ]
  },
  {
   "cell_type": "code",
   "execution_count": 30,
   "id": "973d308d-b514-4f0a-be6c-f6d97ee9912a",
   "metadata": {},
   "outputs": [],
   "source": [
    "reklam=reklam.reshape(-1,1)"
   ]
  },
  {
   "cell_type": "code",
   "execution_count": 31,
   "id": "0b02e6b5-d503-499c-9583-9409ef3bfa5d",
   "metadata": {},
   "outputs": [
    {
     "data": {
      "text/plain": [
       "LinearRegression()"
      ]
     },
     "execution_count": 31,
     "metadata": {},
     "output_type": "execute_result"
    }
   ],
   "source": [
    "linear_model.fit(reklam,satislar)"
   ]
  },
  {
   "cell_type": "code",
   "execution_count": 32,
   "id": "b1ced251-5a21-437c-aba8-aceb6fc8d1b7",
   "metadata": {},
   "outputs": [
    {
     "data": {
      "text/plain": [
       "array([0.484])"
      ]
     },
     "execution_count": 32,
     "metadata": {},
     "output_type": "execute_result"
    }
   ],
   "source": [
    "linear_model.coef_"
   ]
  },
  {
   "cell_type": "code",
   "execution_count": 33,
   "id": "79e5c5ea-1a62-4b92-b924-6bf6d6afb524",
   "metadata": {},
   "outputs": [
    {
     "data": {
      "text/plain": [
       "16.74857142857143"
      ]
     },
     "execution_count": 33,
     "metadata": {},
     "output_type": "execute_result"
    }
   ],
   "source": [
    "linear_model.intercept_"
   ]
  },
  {
   "cell_type": "code",
   "execution_count": 35,
   "id": "d4005e9c-3f52-4d0d-9559-c43f090b7952",
   "metadata": {},
   "outputs": [
    {
     "name": "stdout",
     "output_type": "stream",
     "text": [
      "b1=0.48399999999999993 b0=16.74857142857143\n"
     ]
    }
   ],
   "source": [
    "print('b1={} b0={}'.format(linear_model.coef_[0],linear_model.intercept_))"
   ]
  },
  {
   "cell_type": "code",
   "execution_count": 36,
   "id": "9975c072-f40d-4b83-9627-27cac8d11be7",
   "metadata": {},
   "outputs": [
    {
     "data": {
      "text/plain": [
       "0.9317000000000001"
      ]
     },
     "execution_count": 36,
     "metadata": {},
     "output_type": "execute_result"
    }
   ],
   "source": [
    "linear_model.score(reklam,satislar)"
   ]
  },
  {
   "cell_type": "code",
   "execution_count": 39,
   "id": "72a5c1a8-4f7c-4b82-b651-0b0c4c162c31",
   "metadata": {},
   "outputs": [],
   "source": [
    "satis_proqrnoz=linear_model.predict(reklam)"
   ]
  },
  {
   "cell_type": "code",
   "execution_count": 41,
   "id": "29ff43a1-7655-4eec-8ba1-90da098f873f",
   "metadata": {},
   "outputs": [
    {
     "data": {
      "text/plain": [
       "array([ 1.86342857, -1.07257143, -1.00857143, -1.39657143,  0.66742857,\n",
       "        0.69942857,  0.24742857])"
      ]
     },
     "execution_count": 41,
     "metadata": {},
     "output_type": "execute_result"
    }
   ],
   "source": [
    "xeta=satislar-satis_proqrnoz\n",
    "xeta"
   ]
  },
  {
   "cell_type": "code",
   "execution_count": 42,
   "id": "7f3d6126-87a4-40ec-ac56-e27f6c7895f1",
   "metadata": {},
   "outputs": [
    {
     "data": {
      "text/plain": [
       "0.0"
      ]
     },
     "execution_count": 42,
     "metadata": {},
     "output_type": "execute_result"
    }
   ],
   "source": [
    "xeta.sum()"
   ]
  },
  {
   "cell_type": "code",
   "execution_count": 43,
   "id": "0a36fded-392d-43b0-b3d3-e8cec7e9066f",
   "metadata": {},
   "outputs": [],
   "source": [
    "xeta_kv=np.square(xeta)"
   ]
  },
  {
   "cell_type": "code",
   "execution_count": 44,
   "id": "90692518-0c95-453c-995e-d4c4bba87db9",
   "metadata": {},
   "outputs": [
    {
     "data": {
      "text/plain": [
       "array([3.47236604, 1.15040947, 1.01721633, 1.95041176, 0.4454609 ,\n",
       "       0.48920033, 0.0612209 ])"
      ]
     },
     "execution_count": 44,
     "metadata": {},
     "output_type": "execute_result"
    }
   ],
   "source": [
    "xeta_kv"
   ]
  },
  {
   "cell_type": "markdown",
   "id": "06ae83f7-0993-4193-b3ee-808b6d9df601",
   "metadata": {},
   "source": [
    "(1 - \\frac{u}{v})`,\n",
    "where :math:`u` is the residual sum of squares ``((y_true - y_pred)\n",
    "** 2).sum()`` and :math:`v` is the total sum of squares ``((y_true -\n",
    "y_true.mean()) ** 2).sum()``. T"
   ]
  },
  {
   "cell_type": "code",
   "execution_count": 45,
   "id": "5154caef-f85f-44b4-bfaf-d1b497760098",
   "metadata": {},
   "outputs": [
    {
     "data": {
      "text/plain": [
       "0.9317000000000001"
      ]
     },
     "execution_count": 45,
     "metadata": {},
     "output_type": "execute_result"
    }
   ],
   "source": [
    "r_2=1-((xeta_kv).sum()/((satislar-satislar.mean())**2).sum())\n",
    "r_2"
   ]
  },
  {
   "cell_type": "code",
   "execution_count": 47,
   "id": "bcd55d4f-48ef-48ef-b0cb-a3c148a8137e",
   "metadata": {},
   "outputs": [
    {
     "data": {
      "text/plain": [
       "[<matplotlib.lines.Line2D at 0x1eb9a8e8d30>]"
      ]
     },
     "execution_count": 47,
     "metadata": {},
     "output_type": "execute_result"
    },
    {
     "data": {
      "image/png": "[encoded data removed]",
      "text/plain": [
       "<Figure size 432x288 with 1 Axes>"
      ]
     },
     "metadata": {
      "needs_background": "light"
     },
     "output_type": "display_data"
    }
   ],
   "source": [
    "plt.plot(reklam,satis_proqrnoz)\n",
    "plt.plot(reklam,satislar)"
   ]
  },
  {
   "cell_type": "code",
   "execution_count": 49,
   "id": "d4cda33b-a0f1-4cc2-89ea-d02382761770",
   "metadata": {},
   "outputs": [
    {
     "data": {
      "text/plain": [
       "[<matplotlib.lines.Line2D at 0x1eb9b37f4f0>]"
      ]
     },
     "execution_count": 49,
     "metadata": {},
     "output_type": "execute_result"
    },
    {
     "data": {
      "image/png": "[encoded data removed]",
      "text/plain": [
       "<Figure size 432x288 with 1 Axes>"
      ]
     },
     "metadata": {
      "needs_background": "light"
     },
     "output_type": "display_data"
    }
   ],
   "source": [
    "plt.scatter(reklam,satislar)\n",
    "plt.plot(reklam,reklam*linear_model.coef_[0]+linear_model.intercept_)"
   ]
  },
  {
   "cell_type": "markdown",
   "id": "a21882c8-1681-4b04-89e5-4ae8a98837fa",
   "metadata": {},
   "source": [
    "Logistik Regression"
   ]
  },
  {
   "cell_type": "code",
   "execution_count": 50,
   "id": "d54223cb-09c6-461c-bbe9-e64928e86af5",
   "metadata": {},
   "outputs": [],
   "source": [
    "import os"
   ]
  },
  {
   "cell_type": "code",
   "execution_count": 51,
   "id": "ad99fe32-7e0e-4efa-b443-d6ecf0345df8",
   "metadata": {},
   "outputs": [
    {
     "data": {
      "text/plain": [
       "<function nt.chdir(path)>"
      ]
     },
     "execution_count": 51,
     "metadata": {},
     "output_type": "execute_result"
    }
   ],
   "source": [
    "os.chdir"
   ]
  },
  {
   "cell_type": "code",
   "execution_count": null,
   "id": "089c9d4f-bc76-4af4-a577-4c5e290376d8",
   "metadata": {},
   "outputs": [],
   "source": []
  },
  {
   "cell_type": "code",
   "execution_count": null,
   "id": "6a039ef7-14e1-43d1-8da8-c9b44669094e",
   "metadata": {},
   "outputs": [],
   "source": []
  },
  {
   "cell_type": "code",
   "execution_count": null,
   "id": "a644557e-7477-4c4a-a485-93c177971e7d",
   "metadata": {},
   "outputs": [],
   "source": []
  },
  {
   "cell_type": "code",
   "execution_count": null,
   "id": "d933c593-6926-45eb-b5b7-8ebc828cf633",
   "metadata": {},
   "outputs": [],
   "source": []
  },
  {
   "cell_type": "code",
   "execution_count": null,
   "id": "fd701f7b-07e4-4ebe-8a9d-4195e4990226",
   "metadata": {},
   "outputs": [],
   "source": []
  }
 ],
 "metadata": {
  "kernelspec": {
   "display_name": "Python 3",
   "language": "python",
   "name": "python3"
  },
  "language_info": {
   "codemirror_mode": {
    "name": "ipython",
    "version": 3
   },
   "file_extension": ".py",
   "mimetype": "text/x-python",
   "name": "python",
   "nbconvert_exporter": "python",
   "pygments_lexer": "ipython3",
   "version": "3.9.4"
  }
 },
 "nbformat": 4,
 "nbformat_minor": 5
}
